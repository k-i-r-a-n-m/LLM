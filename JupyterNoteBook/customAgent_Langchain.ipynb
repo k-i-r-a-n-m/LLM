{
 "cells": [
  {
   "cell_type": "markdown",
   "id": "ce44723e-6d39-4e2e-b0e4-f077b7a1c2ac",
   "metadata": {},
   "source": [
    "# Creating Custom Agents using LangChain Framework"
   ]
  },
  {
   "cell_type": "code",
   "execution_count": 142,
   "id": "570f5634-fd99-43fe-9cf5-0c6af2586f53",
   "metadata": {},
   "outputs": [],
   "source": [
    "from dotenv import load_dotenv\n",
    "from langchain_openai import ChatOpenAI\n",
    "from langchain.agents import tool \n",
    "from langchain.prompts import PromptTemplate\n",
    "from langchain_core.tools import render_text_description\n",
    "from langchain.agents.output_parsers.react_single_input import ReActSingleInputOutputParser\n",
    "from typing import Union,List,Tuple\n",
    "from langchain_core.agents import AgentAction,AgentFinish"
   ]
  },
  {
   "cell_type": "code",
   "execution_count": 2,
   "id": "9641b31e-6ccb-4480-bd7e-110005f329f2",
   "metadata": {},
   "outputs": [
    {
     "data": {
      "text/plain": [
       "True"
      ]
     },
     "execution_count": 2,
     "metadata": {},
     "output_type": "execute_result"
    }
   ],
   "source": [
    "load_dotenv()"
   ]
  },
  {
   "cell_type": "code",
   "execution_count": 3,
   "id": "e023e406-c54a-41e3-8249-b9c327397322",
   "metadata": {},
   "outputs": [],
   "source": [
    "llm = ChatOpenAI(model=\"gpt-3.5-turbo\", temperature=0)"
   ]
  },
  {
   "cell_type": "markdown",
   "id": "aa56cd09-e18b-4156-abca-1bb828e62c2d",
   "metadata": {},
   "source": [
    "### Defining Tool"
   ]
  },
  {
   "cell_type": "code",
   "execution_count": 4,
   "id": "836da350-9943-4e22-beab-8ebc3e23bae5",
   "metadata": {},
   "outputs": [],
   "source": [
    "@tool\n",
    "def get_text_length(text:str)->int:\n",
    "    \"\"\"Return the length of a text by characters\"\"\"\n",
    "    print(f\"get_text_length enter with {text=}\")\n",
    "    text = text.strip(\"'\\n\").strip('\"')\n",
    "    return len(text)"
   ]
  },
  {
   "cell_type": "code",
   "execution_count": 5,
   "id": "9549a3f2-0efd-4f13-a70d-bf462e8dbc31",
   "metadata": {},
   "outputs": [
    {
     "name": "stdout",
     "output_type": "stream",
     "text": [
      "get_text_length enter with text='hello'\n",
      "5\n"
     ]
    }
   ],
   "source": [
    "result = get_text_length.invoke('hello')\n",
    "print(result)"
   ]
  },
  {
   "cell_type": "code",
   "execution_count": 44,
   "id": "e9eb6446-2c83-4c64-baeb-6cab136e2476",
   "metadata": {},
   "outputs": [
    {
     "name": "stdout",
     "output_type": "stream",
     "text": [
      "[StructuredTool(name='get_text_length', description='Return the length of a text by characters', args_schema=<class 'pydantic.v1.main.get_text_lengthSchema'>, func=<function get_text_length at 0x000001DFA6AADEE0>)]\n"
     ]
    }
   ],
   "source": [
    "tools = [get_text_length]\n",
    "print(tools)"
   ]
  },
  {
   "cell_type": "markdown",
   "id": "ed26e2e7-b235-4b62-9a48-045fc691aedc",
   "metadata": {},
   "source": [
    "### Template "
   ]
  },
  {
   "cell_type": "code",
   "execution_count": 157,
   "id": "d6c20b22-fda3-4665-b9f9-b21fb3f4960c",
   "metadata": {},
   "outputs": [],
   "source": [
    "template = \"\"\" \n",
    "Answer the following questions as best you can. You have access to the following tools:\n",
    "{tools}\n",
    "\n",
    "Use the following format:\n",
    "\n",
    "Question: the input question you must answer\n",
    "Thought: you should always think about what to do\n",
    "Action: the action to take, should be one of [{tool_names}]\n",
    "Action Input: the input to the action\n",
    "Observation: the result of the action\n",
    "... (this Thought/Action/Action Input/Observation can repeat N times)\n",
    "Thought: I now know the final answer\n",
    "Final Answer: the final answer to the original input question\n",
    "\n",
    "Begin!\n",
    "\n",
    "Question: {input}\n",
    "Thought:\n",
    "\"\"\""
   ]
  },
  {
   "cell_type": "code",
   "execution_count": 56,
   "id": "ede98eb0-501a-464b-a91d-6213695e1c6b",
   "metadata": {},
   "outputs": [
    {
     "data": {
      "text/plain": [
       "{'name': None,\n",
       " 'input_variables': ['greet'],\n",
       " 'input_types': {},\n",
       " 'output_parser': None,\n",
       " 'partial_variables': {'par_var': 'kiran'},\n",
       " 'metadata': None,\n",
       " 'tags': None,\n",
       " 'template': 'say {greet} {par_var}',\n",
       " 'template_format': 'f-string',\n",
       " 'validate_template': False,\n",
       " '_type': 'prompt'}"
      ]
     },
     "execution_count": 56,
     "metadata": {},
     "output_type": "execute_result"
    }
   ],
   "source": [
    "# prompt = PromptTemplate.from_template(template='say {foo}')\n",
    "prompt = PromptTemplate(template=\"say {greet} {par_var}\", input_variables=[\"greet\"],partial_variables={\"par_var\":'kiran'})\n",
    "prompt.format(greet='yoyo',par_var=\"bar\")\n",
    "\n",
    "prompt.dict()\n",
    "# print(prompt) promptValue = {\"\"}\n",
    "\n",
    "# result=prompt.invoke({\"foo\":\"hello\"})\n",
    "# print(result.text)"
   ]
  },
  {
   "cell_type": "code",
   "execution_count": 68,
   "id": "67962a31-bf1d-4102-bab8-fe3f3804199d",
   "metadata": {},
   "outputs": [
    {
     "data": {
      "text/plain": [
       "StringPromptValue(text='say hello kiran')"
      ]
     },
     "execution_count": 68,
     "metadata": {},
     "output_type": "execute_result"
    }
   ],
   "source": [
    " promptValue = {\"greet\": lambda x:x[\"greet\"]} | prompt\n",
    "\n",
    "promptValue.invoke({\"greet\":\"hello\"})\n",
    "# print(promptValue)"
   ]
  },
  {
   "cell_type": "code",
   "execution_count": 42,
   "id": "08d9418d-7b34-4aa4-bbee-7f0db02233d4",
   "metadata": {},
   "outputs": [
    {
     "name": "stdout",
     "output_type": "stream",
     "text": [
      "1*2*3*4*5\n"
     ]
    }
   ],
   "source": [
    "# List of integers\n",
    "numbers = [1, 2, 3, 4, 5]\n",
    "\n",
    "# Convert each integer to a string\n",
    "str_numbers = map(str, numbers)\n",
    "\n",
    "# Join the string representations with commas\n",
    "result = '*'.join(str_numbers)\n",
    "\n",
    "# Output the result\n",
    "print(result)"
   ]
  },
  {
   "cell_type": "code",
   "execution_count": 53,
   "id": "eff44ed5-ddcc-4388-ba26-d9ae34a29309",
   "metadata": {},
   "outputs": [
    {
     "data": {
      "text/plain": [
       "'get_text_length(text: str) -> int - Return the length of a text by characters'"
      ]
     },
     "execution_count": 53,
     "metadata": {},
     "output_type": "execute_result"
    }
   ],
   "source": [
    "render_text_description(tools)"
   ]
  },
  {
   "cell_type": "code",
   "execution_count": 160,
   "id": "036dbbfd-2db4-4326-a11b-51fdc5b0183f",
   "metadata": {},
   "outputs": [],
   "source": [
    "prompt = PromptTemplate \\\n",
    ".from_template(template=template) \\\n",
    ".partial(tools=render_text_description(tools),tool_names=', '.join([t.name for t in tools]))  # LLm only accepts STRING as input"
   ]
  },
  {
   "cell_type": "code",
   "execution_count": 200,
   "id": "b36c0aad-ef82-4b19-a1f4-6b678d33c81a",
   "metadata": {},
   "outputs": [],
   "source": [
    "# llm = ChatOpenAI(temperature=0,model_kwargs={'stop':[\"\\nObservation\",\"Observation\"]})\n",
    "llm = ChatOpenAI(temperature=0,model_kwargs={'stop':[\"\\nObservation\",\"Observation\"]})"
   ]
  },
  {
   "cell_type": "code",
   "execution_count": 162,
   "id": "2fcafbe3-524a-4ca7-bf45-a04cf5133f28",
   "metadata": {},
   "outputs": [
    {
     "data": {
      "text/plain": [
       "AIMessage(content='The word \"DOG\" has 3 characters.', response_metadata={'token_usage': {'completion_tokens': 10, 'prompt_tokens': 15, 'total_tokens': 25}, 'model_name': 'gpt-3.5-turbo', 'system_fingerprint': None, 'finish_reason': 'stop', 'logprobs': None}, id='run-18561819-5519-4279-94c9-5a7450accc20-0', usage_metadata={'input_tokens': 15, 'output_tokens': 10, 'total_tokens': 25})"
      ]
     },
     "execution_count": 162,
     "metadata": {},
     "output_type": "execute_result"
    }
   ],
   "source": [
    "llm.invoke('calculate no.of characters in word DOG')"
   ]
  },
  {
   "cell_type": "code",
   "execution_count": null,
   "id": "c89e7785-3418-4594-ae21-eff8402fe0c4",
   "metadata": {},
   "outputs": [],
   "source": [
    "promptValue = {\"greet\": lambda x:x[\"greet\"]} | prompt\n",
    "result  = promptValue.invoke({\"greet\":\"hello\"})\n",
    "result.text"
   ]
  },
  {
   "cell_type": "markdown",
   "id": "dc2d7ef1-8b5a-44dc-b9ac-d7807f3465f2",
   "metadata": {},
   "source": [
    "## Creating AGENT"
   ]
  },
  {
   "cell_type": "markdown",
   "id": "f2a2446f-0ab1-4389-bbac-e1b8b81628b3",
   "metadata": {},
   "source": [
    "### Without OUT-PARSER "
   ]
  },
  {
   "cell_type": "code",
   "execution_count": null,
   "id": "0671d7a5-aa86-4c86-8167-bb1321131c9c",
   "metadata": {},
   "outputs": [],
   "source": [
    "agent = {\"input\":lambda x:x[\"input\"]} | prompt | llm \n",
    "res = agent.invoke({\"input\":\"what is the text length of 'dog' in characters?\"})\n",
    "print(res)"
   ]
  },
  {
   "cell_type": "markdown",
   "id": "d3be19ba-224a-4123-b273-c5414cd10ff4",
   "metadata": {},
   "source": [
    "### With React_style_output_parser "
   ]
  },
  {
   "cell_type": "code",
   "execution_count": 163,
   "id": "64f5ede1-1d61-4ac1-b43b-a61ee6c16d4a",
   "metadata": {},
   "outputs": [],
   "source": [
    " agent = {\"input\":lambda x:x[\"input\"]} | prompt | llm | ReActSingleInputOutputParser()\n",
    "          #  |                |\n",
    "          # ^to prompt :      ^to Dictionary form invoke\n"
   ]
  },
  {
   "cell_type": "code",
   "execution_count": 164,
   "id": "b1c63520-eecb-4b16-b14a-67f1a67f3bce",
   "metadata": {},
   "outputs": [
    {
     "name": "stdout",
     "output_type": "stream",
     "text": [
      "tool='get_text_length' tool_input=\"'dog'\" log=\"I should use the get_text_length function to determine the length of the text 'dog'.\\nAction: get_text_length\\nAction Input: 'dog'\"\n"
     ]
    }
   ],
   "source": [
    "res = agent.invoke({\"input\":\"what is the text length of 'dog' in characters?\"})\n",
    "print(res)"
   ]
  },
  {
   "cell_type": "markdown",
   "id": "feac3249-ea1b-470b-9561-46c6e32a38b3",
   "metadata": {},
   "source": [
    "`Till now the LLM Figured out what tool is best for the task/question`"
   ]
  },
  {
   "cell_type": "markdown",
   "id": "0f4f38c0-9b01-4f49-ba60-20675f6c006e",
   "metadata": {},
   "source": [
    "## Execution of tool"
   ]
  },
  {
   "cell_type": "code",
   "execution_count": null,
   "id": "c9d94595-3d41-4c07-89ab-77a46c7e701f",
   "metadata": {
    "scrolled": true
   },
   "outputs": [],
   "source": [
    "agent_step:Union[AgentAction,AgentFinish] = agent.invoke({\"input\":\"What is the length of 'fish in chracters?\"})\n",
    "print(agent_step)"
   ]
  },
  {
   "cell_type": "code",
   "execution_count": 121,
   "id": "3ce5288d-98ae-43cf-93c3-93a2f41446f6",
   "metadata": {},
   "outputs": [
    {
     "data": {
      "text/plain": [
       "True"
      ]
     },
     "execution_count": 121,
     "metadata": {},
     "output_type": "execute_result"
    }
   ],
   "source": [
    "isinstance(agent_step,AgentAction)"
   ]
  },
  {
   "cell_type": "code",
   "execution_count": 122,
   "id": "64ab89c7-7c26-42fb-a971-4c9aa9636f95",
   "metadata": {},
   "outputs": [
    {
     "data": {
      "text/plain": [
       "{'tool': 'get_text_length',\n",
       " 'tool_input': 'fish',\n",
       " 'log': 'I should use the get_text_length function to determine the length of the word \"fish\".\\nAction: get_text_length\\nAction Input: \"fish\"',\n",
       " 'type': 'AgentAction'}"
      ]
     },
     "execution_count": 122,
     "metadata": {},
     "output_type": "execute_result"
    }
   ],
   "source": [
    "agent_step.dict()"
   ]
  },
  {
   "cell_type": "code",
   "execution_count": 123,
   "id": "2b497c4f-3c1e-4bba-8b0f-96ce42263654",
   "metadata": {},
   "outputs": [
    {
     "data": {
      "text/plain": [
       "{'name': 'get_text_length',\n",
       " 'description': 'Return the length of a text by characters',\n",
       " 'args_schema': pydantic.v1.main.get_text_lengthSchema,\n",
       " 'return_direct': False,\n",
       " 'verbose': False,\n",
       " 'tags': None,\n",
       " 'metadata': None,\n",
       " 'handle_tool_error': False,\n",
       " 'handle_validation_error': False,\n",
       " 'func': <function __main__.get_text_length(text: str) -> int>,\n",
       " 'coroutine': None}"
      ]
     },
     "execution_count": 123,
     "metadata": {},
     "output_type": "execute_result"
    }
   ],
   "source": [
    "def find_tool_by_name(tools,tool_name):\n",
    "    for tool in tools:\n",
    "        if tool.name == tool_name:\n",
    "            return tool\n",
    "\n",
    "\n",
    "find_tool_by_name(tools,agent_step.tool).dict()"
   ]
  },
  {
   "cell_type": "markdown",
   "id": "c46328b5-acf2-48fb-b289-62e2d7866d92",
   "metadata": {},
   "source": [
    "### How does a AGENT EXECUTOR Works form inside?"
   ]
  },
  {
   "cell_type": "code",
   "execution_count": 124,
   "id": "e131e489-b114-4491-bd93-0a921fb1c998",
   "metadata": {},
   "outputs": [
    {
     "name": "stdout",
     "output_type": "stream",
     "text": [
      "get_text_length enter with text='fish'\n",
      "observation=4\n"
     ]
    }
   ],
   "source": [
    "if(isinstance(agent_step,AgentAction)):\n",
    "    tool_name   = agent_step.tool\n",
    "    tool_to_use = find_tool_by_name(tools,tool_name).func\n",
    "    tool_input  = agent_step.tool_input\n",
    "    observation = tool_to_use(tool_input)\n",
    "    print(f\"{observation=}\")"
   ]
  },
  {
   "cell_type": "code",
   "execution_count": 125,
   "id": "03c1f9e2-8202-4d60-8eed-b5a4f084d58d",
   "metadata": {},
   "outputs": [
    {
     "data": {
      "text/plain": [
       "4"
      ]
     },
     "execution_count": 125,
     "metadata": {},
     "output_type": "execute_result"
    }
   ],
   "source": [
    "len(tool_input)"
   ]
  },
  {
   "cell_type": "markdown",
   "id": "5af47dd9-0c69-4168-a48d-048ad980e6e4",
   "metadata": {},
   "source": [
    "## Agent with scratchpad (History of chats/observations)"
   ]
  },
  {
   "cell_type": "code",
   "execution_count": 197,
   "id": "9d517657-9482-4403-9f16-1bc6c221d0c7",
   "metadata": {},
   "outputs": [],
   "source": [
    "intermediate_steps=[]"
   ]
  },
  {
   "cell_type": "code",
   "execution_count": 134,
   "id": "d251c28a-4f61-48e2-ab2c-35abb88a355f",
   "metadata": {},
   "outputs": [],
   "source": [
    "template = \"\"\" \n",
    "Answer the following questions as best you can. You have access to the following tools:\n",
    "{tools}\n",
    "\n",
    "Use the following format:\n",
    "\n",
    "Question: the input question you must answer\n",
    "Thought: you should always think about what to do\n",
    "Action: the action to take, should be one of [{tool_names}]\n",
    "Action Input: the input to the action\n",
    "Observation: the result of the action\n",
    "... (this Thought/Action/Action Input/Observation can repeat N times)\n",
    "Thought: I now know the final answer\n",
    "Final Answer: the final answer to the original input question\n",
    "\n",
    "Begin!\n",
    "\n",
    "Question: {input}\n",
    "Thought:{agent_scratchpad} \n",
    "\"\"\""
   ]
  },
  {
   "cell_type": "code",
   "execution_count": 165,
   "id": "ac1b688b-09b4-456c-b812-9b4ae971ec06",
   "metadata": {},
   "outputs": [
    {
     "name": "stdout",
     "output_type": "stream",
     "text": [
      "tool='get_text_length' tool_input='dog' log='I should use the get_text_length function to find the length of the text \"dog\".\\nAction: get_text_length\\nAction Input: \"dog\"'\n"
     ]
    }
   ],
   "source": [
    "agent_step:Union[AgentAction,AgentFinish] = agent.invoke({\"input\":\"what is the text length of dog in characters?\",\"agent_scratchpad\":intermediate_steps})\n",
    "\n",
    "print(agent_step)"
   ]
  },
  {
   "cell_type": "code",
   "execution_count": 201,
   "id": "a3c81ad6-247b-42e6-ac62-3b6dc0313c3b",
   "metadata": {},
   "outputs": [
    {
     "name": "stdout",
     "output_type": "stream",
     "text": [
      "get_text_length enter with text='dog'\n",
      "observation=3\n",
      "tool='get_text_length' tool_input='dog' log='I should use the get_text_length function to determine the length of the text \"dog\".\\nAction: get_text_length\\nAction Input: \"dog\"'\n"
     ]
    }
   ],
   "source": [
    "agent = {\n",
    "    \"input\":lambda x:x[\"input\"],\"agent_scratchpad\":lambda x:format_log_to_str(x[\"agent_scratchpad\"])\n",
    "    } | prompt | llm | ReActSingleInputOutputParser()\n",
    "\n",
    "agent_step:Union[AgentAction,AgentFinish] = agent.invoke({\"input\":\"what is the text length of dog in characters?\",\"agent_scratchpad\":intermediate_steps})\n",
    "\n",
    "if(isinstance(agent_step,AgentAction)):\n",
    "    tool_name   = agent_step.tool\n",
    "    tool_to_use = find_tool_by_name(tools,tool_name).func\n",
    "    tool_input  = agent_step.tool_input\n",
    "    \n",
    "    observation = tool_to_use(tool_input)\n",
    "    print(f\"{observation=}\")\n",
    "    intermediate_steps.append((agent_step,observation))\n",
    "    \n",
    "# print(intermediate_steps)\n",
    "\n",
    "print(agent_step)\n"
   ]
  },
  {
   "cell_type": "code",
   "execution_count": 202,
   "id": "89cb6377-ed73-4529-a17b-3ae73d0af64a",
   "metadata": {},
   "outputs": [
    {
     "data": {
      "text/plain": [
       "{'tool': 'get_text_length',\n",
       " 'tool_input': 'dog',\n",
       " 'log': 'I should use the get_text_length function to determine the length of the text \"dog\".\\nAction: get_text_length\\nAction Input: \"dog\"',\n",
       " 'type': 'AgentAction'}"
      ]
     },
     "execution_count": 202,
     "metadata": {},
     "output_type": "execute_result"
    }
   ],
   "source": [
    "agent_step.dict()"
   ]
  },
  {
   "cell_type": "code",
   "execution_count": null,
   "id": "b7fd4bbc-0ad4-46d4-aefd-c4901c4935d3",
   "metadata": {},
   "outputs": [],
   "source": []
  },
  {
   "cell_type": "code",
   "execution_count": null,
   "id": "02cec4e0-babd-4094-b5c0-5320fd8c036f",
   "metadata": {},
   "outputs": [],
   "source": []
  },
  {
   "cell_type": "code",
   "execution_count": 184,
   "id": "7ca26482-f8a9-4872-921d-0df6b969ebea",
   "metadata": {},
   "outputs": [],
   "source": [
    "def format_log_to_str(intermediate_steps:List[Tuple[AgentAction,str]],observation_prefix:str=\"Observation:\",llm_prefix:str=\"Thought:\") -> str:\n",
    "    \"\"\"Construct the scratchpad that lets the agent continue its thought process.\"\"\"\n",
    "    thoughts=\"\"\n",
    "    for action , observation in intermediate_steps:\n",
    "        thoughts += action.log\n",
    "        thoughts += f\"\\n{observation_prefix}{observation}\\n{llm_prefix}\"\n",
    "    return thoughts\n",
    "    "
   ]
  },
  {
   "cell_type": "code",
   "execution_count": 188,
   "id": "b6b4c4d4-3851-452c-b5b5-f3fc9c61a146",
   "metadata": {},
   "outputs": [
    {
     "name": "stdout",
     "output_type": "stream",
     "text": [
      "I should use the get_text_length function to find the length of the text \"dog\".\n",
      "Action: get_text_length\n",
      "Action Input: \"dog\"\n",
      "Observation:3\n",
      "Thought:I should use the get_text_length function to find the length of the text \"dog\".\n",
      "Action: get_text_length\n",
      "Action Input: \"dog\"\n",
      "Observation:3\n",
      "Thought:I should use the get_text_length function to find the length of the text \"dog\".\n",
      "Action: get_text_length\n",
      "Action Input: \"dog\"\n",
      "Observation:3\n",
      "Thought:\n"
     ]
    }
   ],
   "source": [
    "print(format_log_to_str(intermediate_steps))"
   ]
  },
  {
   "cell_type": "code",
   "execution_count": null,
   "id": "9881516d-6296-4ddc-8ce8-8362ec450b13",
   "metadata": {},
   "outputs": [],
   "source": []
  },
  {
   "cell_type": "code",
   "execution_count": null,
   "id": "232f1eb7-4763-44f3-85d0-eede9441902f",
   "metadata": {},
   "outputs": [],
   "source": []
  }
 ],
 "metadata": {
  "kernelspec": {
   "display_name": "Python 3 (ipykernel)",
   "language": "python",
   "name": "python3"
  },
  "language_info": {
   "codemirror_mode": {
    "name": "ipython",
    "version": 3
   },
   "file_extension": ".py",
   "mimetype": "text/x-python",
   "name": "python",
   "nbconvert_exporter": "python",
   "pygments_lexer": "ipython3",
   "version": "3.12.3"
  }
 },
 "nbformat": 4,
 "nbformat_minor": 5
}
