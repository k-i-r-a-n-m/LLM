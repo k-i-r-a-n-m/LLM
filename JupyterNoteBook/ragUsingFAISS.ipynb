{
 "cells": [
  {
   "cell_type": "markdown",
   "id": "88705927-8c6d-4af6-8e7a-038c614962d6",
   "metadata": {},
   "source": [
    "# RAG -- Using FAISS as Local VectorStore"
   ]
  },
  {
   "cell_type": "code",
   "execution_count": 2,
   "id": "56f4e1fe-3a91-4b4b-ba02-4dd7243496d7",
   "metadata": {},
   "outputs": [
    {
     "ename": "NameError",
     "evalue": "name '__file__' is not defined",
     "output_type": "error",
     "traceback": [
      "\u001b[1;31m---------------------------------------------------------------------------\u001b[0m",
      "\u001b[1;31mNameError\u001b[0m                                 Traceback (most recent call last)",
      "Cell \u001b[1;32mIn[2], line 24\u001b[0m\n\u001b[0;32m     20\u001b[0m retrieval_prompt \u001b[38;5;241m=\u001b[39m hub\u001b[38;5;241m.\u001b[39mpull(\u001b[38;5;124m\"\u001b[39m\u001b[38;5;124mlangchain-ai/retrieval-qa-chat\u001b[39m\u001b[38;5;124m\"\u001b[39m)\n\u001b[0;32m     23\u001b[0m \u001b[38;5;66;03m#extract the file's path\u001b[39;00m\n\u001b[1;32m---> 24\u001b[0m script_dir \u001b[38;5;241m=\u001b[39m os\u001b[38;5;241m.\u001b[39mpath\u001b[38;5;241m.\u001b[39mdirname(\u001b[38;5;18;43m__file__\u001b[39;49m)\n\u001b[0;32m     25\u001b[0m file_path \u001b[38;5;241m=\u001b[39m os\u001b[38;5;241m.\u001b[39mpath\u001b[38;5;241m.\u001b[39mjoin(script_dir, \u001b[38;5;124m\"\u001b[39m\u001b[38;5;124m./data/ReAct-research-paper.pdf\u001b[39m\u001b[38;5;124m\"\u001b[39m)\n\u001b[0;32m     26\u001b[0m index_path \u001b[38;5;241m=\u001b[39m os\u001b[38;5;241m.\u001b[39mpath\u001b[38;5;241m.\u001b[39mjoin(script_dir,\u001b[38;5;124m'\u001b[39m\u001b[38;5;124m./data/Faiss-index-react-paper\u001b[39m\u001b[38;5;124m'\u001b[39m)\n",
      "\u001b[1;31mNameError\u001b[0m: name '__file__' is not defined"
     ]
    }
   ],
   "source": [
    "import os\n",
    "from dotenv import load_dotenv\n",
    "from langchain_openai import ChatOpenAI , OpenAIEmbeddings , OpenAI\n",
    "from langchain.chains.combine_documents import create_stuff_documents_chain\n",
    "from langchain.chains.retrieval import create_retrieval_chain\n",
    "from langchain import hub\n",
    "\n",
    "#new imports for pdf\n",
    "from langchain_community.document_loaders import PyPDFLoader\n",
    "from langchain_text_splitters import CharacterTextSplitter\n",
    "\n",
    "#new imports for FAISS\n",
    "from langchain_community.vectorstores import FAISS\n",
    "\n",
    "load_dotenv()\n",
    "\n",
    "# Initial Setup\n",
    "llm = OpenAI(temperature=0)\n",
    "embeddings = OpenAIEmbeddings()\n",
    "retrieval_prompt = hub.pull(\"langchain-ai/retrieval-qa-chat\")\n",
    "\n",
    "\n",
    "#extract the file's path\n",
    "script_dir = os.path.dirname(__file__)\n",
    "file_path = os.path.join(script_dir, \"./data/ReAct-research-paper.pdf\")\n",
    "index_path = os.path.join(script_dir,'./data/Faiss-index-react-paper')\n",
    "\n",
    "# load the pdf document and split into LIST of docs(each doc contains a page's content) [page-0,page-1...page-n]\n",
    "loader = PyPDFLoader(file_path)\n",
    "documents = loader.load()\n",
    "\n",
    "#Control the chunk size using text_splitter\n",
    "text_splitter = CharacterTextSplitter(chunk_size=1000,chunk_overlap=30,separator='\\n')\n",
    "docs = text_splitter.split_documents(documents=documents)\n",
    "\n",
    "\n",
    "# Create the vectors and keeps it in the RAM\n",
    "vectorstore = FAISS.from_documents(docs,embeddings)\n",
    "\n",
    "# To persist the Vector store --> store it in a file\n",
    "vectorstore.save_local(index_path)\n",
    "\n",
    "\n",
    "# Load the Locally stored VectorStore from the FAISS\n",
    "new_vectorstore = FAISS.load_local(index_path,embeddings,allow_dangerous_deserialization=True)\n",
    "\n",
    "# Create Document chain\n",
    "combine_doc_chain = create_stuff_documents_chain(llm,retrieval_prompt)\n",
    "\n",
    "# Crate retrieval chain\n",
    "retrieval_chain = create_retrieval_chain(retriever=vectorstore.as_retriever(),combine_docs_chain=combine_doc_chain)\n",
    "\n",
    "result = retrieval_chain.invoke({\"input\":'explain react in layman terms!'})\n",
    "\n",
    "print(result['answer'])\n",
    "\n",
    "\n"
   ]
  },
  {
   "cell_type": "code",
   "execution_count": null,
   "id": "3f53be6b-426b-4c7c-b255-0557af3834f9",
   "metadata": {},
   "outputs": [],
   "source": []
  }
 ],
 "metadata": {
  "kernelspec": {
   "display_name": "Python 3 (ipykernel)",
   "language": "python",
   "name": "python3"
  },
  "language_info": {
   "codemirror_mode": {
    "name": "ipython",
    "version": 3
   },
   "file_extension": ".py",
   "mimetype": "text/x-python",
   "name": "python",
   "nbconvert_exporter": "python",
   "pygments_lexer": "ipython3",
   "version": "3.12.3"
  }
 },
 "nbformat": 4,
 "nbformat_minor": 5
}
