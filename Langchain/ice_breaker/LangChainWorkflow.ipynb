{
 "cells": [
  {
   "cell_type": "markdown",
   "id": "759ab8b4-6981-4d05-a689-339629dbef43",
   "metadata": {},
   "source": [
    "## Import(s) and initialization"
   ]
  },
  {
   "cell_type": "code",
   "execution_count": 31,
   "id": "4fc06537-bce1-4405-9c91-45473a119632",
   "metadata": {},
   "outputs": [
    {
     "data": {
      "text/plain": [
       "True"
      ]
     },
     "execution_count": 31,
     "metadata": {},
     "output_type": "execute_result"
    }
   ],
   "source": [
    "from dotenv import load_dotenv\n",
    "from langchain_openai import ChatOpenAI\n",
    "from langchain_core.prompts import ChatPromptTemplate\n",
    "from langchain_core.output_parsers import StrOutputParser\n",
    "load_dotenv()"
   ]
  },
  {
   "cell_type": "markdown",
   "id": "05ba1993-a34c-4038-9abc-b51d5abf7de2",
   "metadata": {},
   "source": [
    "#### Get's the api by defult from OPENAI_API_KEY set in \".env\""
   ]
  },
  {
   "cell_type": "code",
   "execution_count": 35,
   "id": "2ae2f370-4009-4f9f-bc52-968ba5f16681",
   "metadata": {},
   "outputs": [],
   "source": [
    "llm = ChatOpenAI(temperature=0,max_tokens=10) "
   ]
  },
  {
   "cell_type": "code",
   "execution_count": 13,
   "id": "7f842ff9-91fe-43bb-9c29-fe96b730dddf",
   "metadata": {},
   "outputs": [],
   "source": [
    "aiMessage = llm.invoke(\"how are you?\")"
   ]
  },
  {
   "cell_type": "code",
   "execution_count": 16,
   "id": "ed5cb79c-c941-4bf5-b8c0-2225b939049d",
   "metadata": {},
   "outputs": [
    {
     "data": {
      "text/plain": [
       "AIMessage(content=\"I'm just a computer program so I don't have feelings, but I'm here to help you with anything you need. How can I assist you today?\", response_metadata={'token_usage': {'completion_tokens': 32, 'prompt_tokens': 11, 'total_tokens': 43}, 'model_name': 'gpt-3.5-turbo', 'system_fingerprint': None, 'finish_reason': 'stop', 'logprobs': None}, id='run-600f65bb-a659-45e3-ace2-c6d9773eab52-0')"
      ]
     },
     "execution_count": 16,
     "metadata": {},
     "output_type": "execute_result"
    }
   ],
   "source": [
    "aiMessage"
   ]
  },
  {
   "cell_type": "code",
   "execution_count": 15,
   "id": "cb001d05-207d-4b6a-80c9-2c08e9bfde79",
   "metadata": {},
   "outputs": [
    {
     "data": {
      "text/plain": [
       "\"I'm just a computer program so I don't have feelings, but I'm here to help you with anything you need. How can I assist you today?\""
      ]
     },
     "execution_count": 15,
     "metadata": {},
     "output_type": "execute_result"
    }
   ],
   "source": [
    "aiMessage.content"
   ]
  },
  {
   "cell_type": "markdown",
   "id": "c2801c50-68b3-49d2-b4e9-9bc9142dd6f8",
   "metadata": {},
   "source": [
    "### Adding Prompts (system,user,assistance)"
   ]
  },
  {
   "cell_type": "code",
   "execution_count": 19,
   "id": "12ff8b69-146e-4b56-9d3d-ec844669361a",
   "metadata": {},
   "outputs": [],
   "source": [
    "prompt = ChatPromptTemplate.from_messages([\n",
    "    (\"system\", \"You are a world class technical documentation writer.\"),\n",
    "    (\"user\", \"{input}\")\n",
    "])"
   ]
  },
  {
   "cell_type": "markdown",
   "id": "de6ee7a3-33ee-40b7-ac00-1d01639ed846",
   "metadata": {},
   "source": [
    "## A chain is being created ---- prompt --> LLM(OpenAI)"
   ]
  },
  {
   "cell_type": "code",
   "execution_count": 22,
   "id": "1444a6b0-2f62-44e9-a8d8-399b19ab79cc",
   "metadata": {},
   "outputs": [],
   "source": [
    "chain = prompt | llm"
   ]
  },
  {
   "cell_type": "code",
   "execution_count": 25,
   "id": "99730940-30ce-40c6-8b17-134d6cc55323",
   "metadata": {},
   "outputs": [],
   "source": [
    "prompted_ai_message = chain.invoke({\"input\":'how can langsmith help wiht testing?'})"
   ]
  },
  {
   "cell_type": "markdown",
   "id": "c1bfc639-0602-4b79-8b2e-85a5f6db3ed3",
   "metadata": {},
   "source": [
    "### Output Message from Prompted Template"
   ]
  },
  {
   "cell_type": "code",
   "execution_count": 27,
   "id": "7f1e7088-105c-4e6a-aed8-5f686f1a1fbe",
   "metadata": {},
   "outputs": [
    {
     "data": {
      "text/plain": [
       "AIMessage(content='Langsmith can help with testing in various ways by providing tools and frameworks to automate testing processes, analyze test results, and manage test cases efficiently. Here are some ways Langsmith can assist with testing:\\n\\n1. Test Automation: Langsmith provides libraries and tools for automating test cases, making it easier to run tests repeatedly and consistently. By automating tests, teams can save time and effort while ensuring consistent results.\\n\\n2. Test Frameworks: Langsmith offers test frameworks that help in structuring and organizing test cases effectively. These frameworks provide a standardized way to write and execute tests, making it easier to maintain and scale testing efforts.\\n\\n3. Test Reporting: Langsmith can generate detailed reports on test results, helping teams to analyze and track the status of their tests. These reports can provide insights into the quality of the software and help in identifying areas that need improvement.\\n\\n4. Test Management: Langsmith tools can assist in managing test cases, test suites, and test data. Test management features help in organizing tests, tracking progress, and ensuring proper coverage of requirements.\\n\\n5. Integration with CI/CD: Langsmith tools can be integrated into Continuous Integration/Continuous Deployment (CI/CD) pipelines to automate testing as part of the development workflow. This ensures that tests are run automatically whenever code changes are made, helping in early detection of issues.\\n\\nOverall, Langsmith can streamline testing processes, improve test coverage, and enhance the overall quality of software products by providing a comprehensive set of tools and frameworks for testing.', response_metadata={'token_usage': {'completion_tokens': 303, 'prompt_tokens': 29, 'total_tokens': 332}, 'model_name': 'gpt-3.5-turbo', 'system_fingerprint': None, 'finish_reason': 'stop', 'logprobs': None}, id='run-bad0e137-473f-4465-acc1-4872d89b51fa-0')"
      ]
     },
     "execution_count": 27,
     "metadata": {},
     "output_type": "execute_result"
    }
   ],
   "source": [
    "prompted_ai_message"
   ]
  },
  {
   "cell_type": "code",
   "execution_count": 30,
   "id": "155f9a5a-e004-4991-8950-d19f97d2d1df",
   "metadata": {},
   "outputs": [
    {
     "data": {
      "text/plain": [
       "'Langsmith can help with testing in various ways by providing tools and frameworks to automate testing processes, analyze test results, and manage test cases efficiently. Here are some ways Langsmith can assist with testing:\\n\\n1. Test Automation: Langsmith provides libraries and tools for automating test cases, making it easier to run tests repeatedly and consistently. By automating tests, teams can save time and effort while ensuring consistent results.\\n\\n2. Test Frameworks: Langsmith offers test frameworks that help in structuring and organizing test cases effectively. These frameworks provide a standardized way to write and execute tests, making it easier to maintain and scale testing efforts.\\n\\n3. Test Reporting: Langsmith can generate detailed reports on test results, helping teams to analyze and track the status of their tests. These reports can provide insights into the quality of the software and help in identifying areas that need improvement.\\n\\n4. Test Management: Langsmith tools can assist in managing test cases, test suites, and test data. Test management features help in organizing tests, tracking progress, and ensuring proper coverage of requirements.\\n\\n5. Integration with CI/CD: Langsmith tools can be integrated into Continuous Integration/Continuous Deployment (CI/CD) pipelines to automate testing as part of the development workflow. This ensures that tests are run automatically whenever code changes are made, helping in early detection of issues.\\n\\nOverall, Langsmith can streamline testing processes, improve test coverage, and enhance the overall quality of software products by providing a comprehensive set of tools and frameworks for testing.'"
      ]
     },
     "execution_count": 30,
     "metadata": {},
     "output_type": "execute_result"
    }
   ],
   "source": [
    "prompted_ai_message.content"
   ]
  },
  {
   "cell_type": "code",
   "execution_count": 28,
   "id": "90e3aa69-bb11-4cf2-965d-258c4582542d",
   "metadata": {},
   "outputs": [
    {
     "data": {
      "text/plain": [
       "{'token_usage': {'completion_tokens': 303,\n",
       "  'prompt_tokens': 29,\n",
       "  'total_tokens': 332},\n",
       " 'model_name': 'gpt-3.5-turbo',\n",
       " 'system_fingerprint': None,\n",
       " 'finish_reason': 'stop',\n",
       " 'logprobs': None}"
      ]
     },
     "execution_count": 28,
     "metadata": {},
     "output_type": "execute_result"
    }
   ],
   "source": [
    "prompted_ai_message.response_metadata"
   ]
  },
  {
   "cell_type": "code",
   "execution_count": 29,
   "id": "3e672d40-d5a3-4564-8976-432853a7854c",
   "metadata": {},
   "outputs": [
    {
     "data": {
      "text/plain": [
       "{'completion_tokens': 303, 'prompt_tokens': 29, 'total_tokens': 332}"
      ]
     },
     "execution_count": 29,
     "metadata": {},
     "output_type": "execute_result"
    }
   ],
   "source": [
    "prompted_ai_message.response_metadata[\"token_usage\"]"
   ]
  },
  {
   "cell_type": "markdown",
   "id": "05bf491d-14d0-4bb8-87bf-f1726ed8069c",
   "metadata": {},
   "source": [
    "## A chain is being created ---- prompt --> LLM(OpenAI) --> outputParser"
   ]
  },
  {
   "cell_type": "code",
   "execution_count": 36,
   "id": "95ba6843-ba0c-49b3-856e-d1b5d0a179f5",
   "metadata": {},
   "outputs": [],
   "source": [
    "output_parser = StrOutputParser()\n",
    "chain = prompt | llm | output_parser"
   ]
  },
  {
   "cell_type": "code",
   "execution_count": 37,
   "id": "0bf1930d-2fd4-4ba2-a764-9f68a1238e72",
   "metadata": {},
   "outputs": [
    {
     "data": {
      "text/plain": [
       "'Langsmith can help with testing in several ways:\\n\\n'"
      ]
     },
     "execution_count": 37,
     "metadata": {},
     "output_type": "execute_result"
    }
   ],
   "source": [
    "chain.invoke({\"input\":'how can langsmith help with testing?'})"
   ]
  },
  {
   "cell_type": "code",
   "execution_count": null,
   "id": "c904afb1-c981-4433-8e86-beba531636ac",
   "metadata": {},
   "outputs": [],
   "source": []
  }
 ],
 "metadata": {
  "kernelspec": {
   "display_name": "Python 3 (ipykernel)",
   "language": "python",
   "name": "python3"
  },
  "language_info": {
   "codemirror_mode": {
    "name": "ipython",
    "version": 3
   },
   "file_extension": ".py",
   "mimetype": "text/x-python",
   "name": "python",
   "nbconvert_exporter": "python",
   "pygments_lexer": "ipython3",
   "version": "3.12.3"
  }
 },
 "nbformat": 4,
 "nbformat_minor": 5
}
