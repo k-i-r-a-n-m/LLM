{
 "cells": [
  {
   "cell_type": "markdown",
   "id": "f5d11658-4792-418c-8728-e462eb641e3c",
   "metadata": {},
   "source": [
    "# AGENTS and TOOLS"
   ]
  },
  {
   "cell_type": "markdown",
   "id": "2b1a6c83-8e7d-49bd-8777-2f470b9a64e2",
   "metadata": {},
   "source": [
    "`The core idea of agents is to use a language model to choose a sequence of actions to take.\n",
    "In chains, a sequence of actions is hardcoded (in code). In agents, a language model is used as a reasoning engine to determine which actions to take and in which order.`"
   ]
  },
  {
   "cell_type": "markdown",
   "id": "241dc723-16ce-4991-8ae7-8514b2fd91a4",
   "metadata": {},
   "source": [
    "` Understanding:Agent performs iterative action with the help of llm by \"Reasoning the input\" and arraiving at a output with the help of \"TOOL\" provided to the agent`"
   ]
  },
  {
   "cell_type": "markdown",
   "id": "4d8a0a1e-abf0-4d6e-b121-a59498778268",
   "metadata": {},
   "source": [
    "## Load the ENV. & necessary Dependencies (llm,agent(tool),prompt(hub))"
   ]
  },
  {
   "cell_type": "code",
   "execution_count": 43,
   "id": "7e30b943-62b0-440e-9399-cdd3bf74e030",
   "metadata": {},
   "outputs": [
    {
     "data": {
      "text/plain": [
       "True"
      ]
     },
     "execution_count": 43,
     "metadata": {},
     "output_type": "execute_result"
    }
   ],
   "source": [
    "# Env\n",
    "from dotenv import load_dotenv\n",
    "\n",
    "# LLM\n",
    "from langchain_openai import ChatOpenAI\n",
    "\n",
    "# Agent\n",
    "from langchain.agents import AgentExecutor , create_react_agent\n",
    "\n",
    "# Prompts\n",
    "from langchain import hub\n",
    "from langchain.prompts.prompt import PromptTemplate\n",
    "\n",
    "# tools\n",
    "from langchain_core.tools import Tool\n",
    "from langchain_community.tools.tavily_search import TavilySearchResults\n",
    "\n",
    "# loading the .env variables\n",
    "load_dotenv()"
   ]
  },
  {
   "cell_type": "markdown",
   "id": "912628ac-fbde-499e-a01a-c7d292c22d14",
   "metadata": {},
   "source": [
    "## Initialize the LLM to be used"
   ]
  },
  {
   "cell_type": "code",
   "execution_count": 31,
   "id": "4e55e23b-f14e-4a9e-b3fb-7dd28eca0109",
   "metadata": {},
   "outputs": [],
   "source": [
    " llm = ChatOpenAI(temperature=0,model='gpt-3.5-turbo')"
   ]
  },
  {
   "cell_type": "markdown",
   "id": "0f0197ab-f03e-4eea-9e11-e37a3d3f0195",
   "metadata": {},
   "source": [
    "## Template with output indicator"
   ]
  },
  {
   "cell_type": "code",
   "execution_count": 32,
   "id": "68f7a71e-99fa-41fb-a788-207938d8a2bd",
   "metadata": {},
   "outputs": [],
   "source": [
    "template = \"\"\"given the full name {name_of_person} I want you to get me a link to theirr linkedin profile page.\n",
    "            your answer should contain only a URL\"\"\""
   ]
  },
  {
   "cell_type": "code",
   "execution_count": 33,
   "id": "fd116036-e9e4-4b26-ad65-a52aeacd8414",
   "metadata": {},
   "outputs": [
    {
     "data": {
      "text/plain": [
       "'given the full name {name_of_person} I want you to get me a link to theirr linkedin profile page.\\n            your answer should contain only a URL'"
      ]
     },
     "execution_count": 33,
     "metadata": {},
     "output_type": "execute_result"
    }
   ],
   "source": [
    "template"
   ]
  },
  {
   "cell_type": "markdown",
   "id": "1c73c185-3221-4e32-9795-c59baeb20562",
   "metadata": {},
   "source": [
    "### Initialize Prompt Template for LLM"
   ]
  },
  {
   "cell_type": "code",
   "execution_count": 38,
   "id": "0902fc24-54f0-4a5c-a0b8-d887caea3e4d",
   "metadata": {},
   "outputs": [
    {
     "name": "stdout",
     "output_type": "stream",
     "text": [
      "input_variables=['name_of_person'] template='given the full name {name_of_person} I want you to get me a link to theirr linkedin profile page.\\n            your answer should contain only a URL'\n"
     ]
    },
    {
     "data": {
      "text/plain": [
       "{'name': None,\n",
       " 'input_variables': ['name_of_person'],\n",
       " 'input_types': {},\n",
       " 'output_parser': None,\n",
       " 'partial_variables': {},\n",
       " 'metadata': None,\n",
       " 'tags': None,\n",
       " 'template': 'given the full name {name_of_person} I want you to get me a link to theirr linkedin profile page.\\n            your answer should contain only a URL',\n",
       " 'template_format': 'f-string',\n",
       " 'validate_template': False}"
      ]
     },
     "execution_count": 38,
     "metadata": {},
     "output_type": "execute_result"
    }
   ],
   "source": [
    "prompt_template = PromptTemplate(template=template,input_variables=['name_of_person'])\n",
    "print(prompt_template)\n",
    "dict(prompt_template)"
   ]
  },
  {
   "cell_type": "markdown",
   "id": "8dd92b88-5697-445c-aacf-9076b2fac044",
   "metadata": {},
   "source": [
    "## Tool Initialization"
   ]
  },
  {
   "cell_type": "code",
   "execution_count": 44,
   "id": "8e144d87-d59f-4dbc-a74d-6842011a2500",
   "metadata": {},
   "outputs": [],
   "source": [
    "def get_profile_url_tavily(name:str):\n",
    "    \"\"\"Searches for linkedin or Twitter profile page.\"\"\"\n",
    "    search = TavilySearchResults()\n",
    "    response = search.invoke(f'{name}')\n",
    "    return response[0]['url']"
   ]
  },
  {
   "cell_type": "markdown",
   "id": "c8745167-8505-43cf-9b3a-29a1914c5a86",
   "metadata": {},
   "source": [
    "### List all the tools"
   ]
  },
  {
   "cell_type": "code",
   "execution_count": 45,
   "id": "dfba97ba-1ced-4712-9534-a37df718c3d6",
   "metadata": {
    "scrolled": true
   },
   "outputs": [],
   "source": [
    "tools_for_agent = [\n",
    "    Tool(\n",
    "        name='Crawl Google to get Linkedin profile page',\n",
    "        func=get_profile_url_tavily,\n",
    "        description=\"useful when you need to get the linkedin page URL\" \n",
    "    )\n",
    "]"
   ]
  },
  {
   "cell_type": "markdown",
   "id": "ca331d2b-3de4-41c2-9a21-a3ef1634cf63",
   "metadata": {},
   "source": [
    "## Create ReAct Prompt using LangChain HUB (Place to find prompt templates)"
   ]
  },
  {
   "cell_type": "code",
   "execution_count": 34,
   "id": "80378f82-59a6-4a3a-beca-242970e861e7",
   "metadata": {},
   "outputs": [],
   "source": [
    "react_prompt = hub.pull('hwchase17/react')  #user/templateName"
   ]
  },
  {
   "cell_type": "code",
   "execution_count": 35,
   "id": "a21ba942-0e38-4967-b43e-10109f27a92f",
   "metadata": {},
   "outputs": [
    {
     "data": {
      "text/plain": [
       "{'name': None,\n",
       " 'input_variables': ['agent_scratchpad', 'input', 'tool_names', 'tools'],\n",
       " 'input_types': {},\n",
       " 'output_parser': None,\n",
       " 'partial_variables': {},\n",
       " 'metadata': {'lc_hub_owner': 'hwchase17',\n",
       "  'lc_hub_repo': 'react',\n",
       "  'lc_hub_commit_hash': 'd15fe3c426f1c4b3f37c9198853e4a86e20c425ca7f4752ec0c9b0e97ca7ea4d'},\n",
       " 'tags': None,\n",
       " 'template': 'Answer the following questions as best you can. You have access to the following tools:\\n\\n{tools}\\n\\nUse the following format:\\n\\nQuestion: the input question you must answer\\nThought: you should always think about what to do\\nAction: the action to take, should be one of [{tool_names}]\\nAction Input: the input to the action\\nObservation: the result of the action\\n... (this Thought/Action/Action Input/Observation can repeat N times)\\nThought: I now know the final answer\\nFinal Answer: the final answer to the original input question\\n\\nBegin!\\n\\nQuestion: {input}\\nThought:{agent_scratchpad}',\n",
       " 'template_format': 'f-string',\n",
       " 'validate_template': False}"
      ]
     },
     "execution_count": 35,
     "metadata": {},
     "output_type": "execute_result"
    }
   ],
   "source": [
    "dict(react_prompt)  # the Input variables are filled by the langchain"
   ]
  },
  {
   "cell_type": "markdown",
   "id": "e07bce7f-0c7c-4477-9a99-ffe46bff027b",
   "metadata": {},
   "source": [
    "## Initializing the Agent"
   ]
  },
  {
   "cell_type": "code",
   "execution_count": 46,
   "id": "07914827-bf6c-44f4-ada1-fe9b1c742b8d",
   "metadata": {},
   "outputs": [],
   "source": [
    "agent = create_react_agent(llm=llm,tools=tools_for_agent,prompt=react_prompt)"
   ]
  },
  {
   "cell_type": "code",
   "execution_count": 59,
   "id": "d575c644-7610-4bd0-abf3-31eab268fd20",
   "metadata": {},
   "outputs": [],
   "source": [
    "agent_executor = AgentExecutor(agent=agent,tools=tools_for_agent,verbose=True)"
   ]
  },
  {
   "cell_type": "markdown",
   "id": "8c4157e5-695b-4adf-9ef6-9d675c6b38ad",
   "metadata": {},
   "source": [
    "## Generating the Value from the PromptTemplate"
   ]
  },
  {
   "cell_type": "code",
   "execution_count": 60,
   "id": "eb50ea8e-d9da-42f2-a20e-42bb0274d0ed",
   "metadata": {},
   "outputs": [
    {
     "data": {
      "text/plain": [
       "StringPromptValue(text='given the full name kiran I want you to get me a link to theirr linkedin profile page.\\n            your answer should contain only a URL')"
      ]
     },
     "execution_count": 60,
     "metadata": {},
     "output_type": "execute_result"
    }
   ],
   "source": [
    "prompt_template.format_prompt(name_of_person=\"kiran\")"
   ]
  },
  {
   "cell_type": "markdown",
   "id": "44b493b8-480e-4b3f-a117-33fe62b63762",
   "metadata": {},
   "source": [
    "## Invoking the Agent -- AgentExecutor(Runtime for the agents)"
   ]
  },
  {
   "cell_type": "code",
   "execution_count": 61,
   "id": "8c97333e-9f29-471b-8ffa-fe61a906290b",
   "metadata": {},
   "outputs": [
    {
     "name": "stdout",
     "output_type": "stream",
     "text": [
      "\n",
      "\n",
      "\u001b[1m> Entering new AgentExecutor chain...\u001b[0m\n",
      "\u001b[32;1m\u001b[1;3mI should use the tool to crawl Google to get the Linkedin profile page.\n",
      "Action: Crawl Google to get Linkedin profile page\n",
      "Action Input: somesh yogaraj Linkedin\u001b[0m\u001b[36;1m\u001b[1;3mhttps://www.linkedin.com/posts/someshyogaraj_im-happy-to-share-that-ive-obtained-a-new-activity-7103719312024076288-ZBYg\u001b[0m\u001b[32;1m\u001b[1;3mI now know the final answer\n",
      "Final Answer: https://www.linkedin.com/posts/someshyogaraj_im-happy-to-share-that-ive-obtained-a-new-activity-7103719312024076288-ZBYg\u001b[0m\n",
      "\n",
      "\u001b[1m> Finished chain.\u001b[0m\n"
     ]
    },
    {
     "data": {
      "text/plain": [
       "{'input': StringPromptValue(text='given the full name somesh yogaraj I want you to get me a link to theirr linkedin profile page.\\n            your answer should contain only a URL'),\n",
       " 'output': 'https://www.linkedin.com/posts/someshyogaraj_im-happy-to-share-that-ive-obtained-a-new-activity-7103719312024076288-ZBYg'}"
      ]
     },
     "execution_count": 61,
     "metadata": {},
     "output_type": "execute_result"
    }
   ],
   "source": [
    "result = agent_executor.invoke(input={\n",
    "    \"input\":prompt_template.format_prompt(name_of_person=\"somesh yogaraj\") #guess: \"input\" must be template from the hub\n",
    "})\n",
    "dict(result)"
   ]
  },
  {
   "cell_type": "raw",
   "id": "25ede647-86ac-4aaa-a8e6-cafaf1cd188d",
   "metadata": {},
   "source": [
    "print(result)"
   ]
  },
  {
   "cell_type": "markdown",
   "id": "0ca5821b-2f34-450d-b59b-3aecf8d4f72b",
   "metadata": {},
   "source": [
    "## Ouput"
   ]
  },
  {
   "cell_type": "code",
   "execution_count": 54,
   "id": "cebef606-8b08-404e-a875-930f9f0f08c3",
   "metadata": {},
   "outputs": [
    {
     "name": "stdout",
     "output_type": "stream",
     "text": [
      "https://www.linkedin.com/pub/dir/Somesh/Yogaraj\n"
     ]
    }
   ],
   "source": [
    "linkedIn_profile_url = result['output']\n",
    "print(linkedIn_profile_url)"
   ]
  },
  {
   "cell_type": "code",
   "execution_count": null,
   "id": "d4883dbe-2414-4666-892e-e02d02434e42",
   "metadata": {},
   "outputs": [],
   "source": []
  }
 ],
 "metadata": {
  "kernelspec": {
   "display_name": "Python 3 (ipykernel)",
   "language": "python",
   "name": "python3"
  },
  "language_info": {
   "codemirror_mode": {
    "name": "ipython",
    "version": 3
   },
   "file_extension": ".py",
   "mimetype": "text/x-python",
   "name": "python",
   "nbconvert_exporter": "python",
   "pygments_lexer": "ipython3",
   "version": "3.12.3"
  }
 },
 "nbformat": 4,
 "nbformat_minor": 5
}
